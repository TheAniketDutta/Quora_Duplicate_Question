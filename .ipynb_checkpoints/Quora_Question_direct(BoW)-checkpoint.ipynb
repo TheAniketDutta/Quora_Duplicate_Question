{
 "cells": [
  {
   "cell_type": "code",
   "execution_count": 1,
   "id": "6cd241e9",
   "metadata": {},
   "outputs": [],
   "source": [
    "import numpy as np \n",
    "import pandas as pd\n",
    "import seaborn as sns\n",
    "import matplotlib.pyplot as plt"
   ]
  },
  {
   "cell_type": "code",
   "execution_count": 2,
   "id": "340eaa88",
   "metadata": {},
   "outputs": [
    {
     "data": {
      "text/plain": [
       "(404290, 6)"
      ]
     },
     "execution_count": 2,
     "metadata": {},
     "output_type": "execute_result"
    }
   ],
   "source": [
    "df= pd.read_csv(\"train.csv\")\n",
    "df.shape"
   ]
  },
  {
   "cell_type": "code",
   "execution_count": 3,
   "id": "eefd7166",
   "metadata": {},
   "outputs": [
    {
     "data": {
      "text/html": [
       "<div>\n",
       "<style scoped>\n",
       "    .dataframe tbody tr th:only-of-type {\n",
       "        vertical-align: middle;\n",
       "    }\n",
       "\n",
       "    .dataframe tbody tr th {\n",
       "        vertical-align: top;\n",
       "    }\n",
       "\n",
       "    .dataframe thead th {\n",
       "        text-align: right;\n",
       "    }\n",
       "</style>\n",
       "<table border=\"1\" class=\"dataframe\">\n",
       "  <thead>\n",
       "    <tr style=\"text-align: right;\">\n",
       "      <th></th>\n",
       "      <th>id</th>\n",
       "      <th>qid1</th>\n",
       "      <th>qid2</th>\n",
       "      <th>question1</th>\n",
       "      <th>question2</th>\n",
       "      <th>is_duplicate</th>\n",
       "    </tr>\n",
       "  </thead>\n",
       "  <tbody>\n",
       "    <tr>\n",
       "      <th>357306</th>\n",
       "      <td>357306</td>\n",
       "      <td>221747</td>\n",
       "      <td>184466</td>\n",
       "      <td>What are some major social faux pas to avoid w...</td>\n",
       "      <td>What are some major social faux pas to avoid w...</td>\n",
       "      <td>0</td>\n",
       "    </tr>\n",
       "    <tr>\n",
       "      <th>138468</th>\n",
       "      <td>138468</td>\n",
       "      <td>220463</td>\n",
       "      <td>18531</td>\n",
       "      <td>What can I do to have a flat tummy?</td>\n",
       "      <td>What are the best ways to reduce and eliminate...</td>\n",
       "      <td>0</td>\n",
       "    </tr>\n",
       "    <tr>\n",
       "      <th>195903</th>\n",
       "      <td>195903</td>\n",
       "      <td>26498</td>\n",
       "      <td>296479</td>\n",
       "      <td>Who would you vote for: Donald Trump or Hillar...</td>\n",
       "      <td>I'm undecided between Hillary Clinton and Dona...</td>\n",
       "      <td>0</td>\n",
       "    </tr>\n",
       "    <tr>\n",
       "      <th>241185</th>\n",
       "      <td>241185</td>\n",
       "      <td>353150</td>\n",
       "      <td>353151</td>\n",
       "      <td>Can a rat kill a lizard?</td>\n",
       "      <td>Can a lizard kill me?</td>\n",
       "      <td>0</td>\n",
       "    </tr>\n",
       "    <tr>\n",
       "      <th>334180</th>\n",
       "      <td>334180</td>\n",
       "      <td>95470</td>\n",
       "      <td>23541</td>\n",
       "      <td>Why is it when I am myself, people find me una...</td>\n",
       "      <td>How do you deal with people who talk behind yo...</td>\n",
       "      <td>0</td>\n",
       "    </tr>\n",
       "    <tr>\n",
       "      <th>373897</th>\n",
       "      <td>373897</td>\n",
       "      <td>504756</td>\n",
       "      <td>140168</td>\n",
       "      <td>Am I the only woman who hates wearing a bra?</td>\n",
       "      <td>I'm a Brahmin girl married to a non-Brahmin wh...</td>\n",
       "      <td>0</td>\n",
       "    </tr>\n",
       "    <tr>\n",
       "      <th>145589</th>\n",
       "      <td>145589</td>\n",
       "      <td>230176</td>\n",
       "      <td>230177</td>\n",
       "      <td>What's it like working at Dropbox?</td>\n",
       "      <td>What is it like to work at Dropbox?</td>\n",
       "      <td>1</td>\n",
       "    </tr>\n",
       "    <tr>\n",
       "      <th>307321</th>\n",
       "      <td>307321</td>\n",
       "      <td>430980</td>\n",
       "      <td>430981</td>\n",
       "      <td>How is NASCAR purported to be a domain for whi...</td>\n",
       "      <td>Why do white males support Trump?</td>\n",
       "      <td>0</td>\n",
       "    </tr>\n",
       "    <tr>\n",
       "      <th>33240</th>\n",
       "      <td>33240</td>\n",
       "      <td>61100</td>\n",
       "      <td>61101</td>\n",
       "      <td>Why do people believe in god?</td>\n",
       "      <td>Why don't atheists believe in any gods?</td>\n",
       "      <td>0</td>\n",
       "    </tr>\n",
       "    <tr>\n",
       "      <th>182699</th>\n",
       "      <td>182699</td>\n",
       "      <td>279560</td>\n",
       "      <td>279561</td>\n",
       "      <td>What are the issues related to GST from UPSC p...</td>\n",
       "      <td>Why is studying so unpleasant for most of us f...</td>\n",
       "      <td>0</td>\n",
       "    </tr>\n",
       "  </tbody>\n",
       "</table>\n",
       "</div>"
      ],
      "text/plain": [
       "            id    qid1    qid2  \\\n",
       "357306  357306  221747  184466   \n",
       "138468  138468  220463   18531   \n",
       "195903  195903   26498  296479   \n",
       "241185  241185  353150  353151   \n",
       "334180  334180   95470   23541   \n",
       "373897  373897  504756  140168   \n",
       "145589  145589  230176  230177   \n",
       "307321  307321  430980  430981   \n",
       "33240    33240   61100   61101   \n",
       "182699  182699  279560  279561   \n",
       "\n",
       "                                                question1  \\\n",
       "357306  What are some major social faux pas to avoid w...   \n",
       "138468                What can I do to have a flat tummy?   \n",
       "195903  Who would you vote for: Donald Trump or Hillar...   \n",
       "241185                           Can a rat kill a lizard?   \n",
       "334180  Why is it when I am myself, people find me una...   \n",
       "373897       Am I the only woman who hates wearing a bra?   \n",
       "145589                 What's it like working at Dropbox?   \n",
       "307321  How is NASCAR purported to be a domain for whi...   \n",
       "33240                       Why do people believe in god?   \n",
       "182699  What are the issues related to GST from UPSC p...   \n",
       "\n",
       "                                                question2  is_duplicate  \n",
       "357306  What are some major social faux pas to avoid w...             0  \n",
       "138468  What are the best ways to reduce and eliminate...             0  \n",
       "195903  I'm undecided between Hillary Clinton and Dona...             0  \n",
       "241185                              Can a lizard kill me?             0  \n",
       "334180  How do you deal with people who talk behind yo...             0  \n",
       "373897  I'm a Brahmin girl married to a non-Brahmin wh...             0  \n",
       "145589                What is it like to work at Dropbox?             1  \n",
       "307321                  Why do white males support Trump?             0  \n",
       "33240             Why don't atheists believe in any gods?             0  \n",
       "182699  Why is studying so unpleasant for most of us f...             0  "
      ]
     },
     "execution_count": 3,
     "metadata": {},
     "output_type": "execute_result"
    }
   ],
   "source": [
    "df.sample(10)"
   ]
  },
  {
   "cell_type": "code",
   "execution_count": 4,
   "id": "42d4cee2",
   "metadata": {},
   "outputs": [],
   "source": [
    "new_df=df.sample(30000)"
   ]
  },
  {
   "cell_type": "code",
   "execution_count": 5,
   "id": "cd5d612f",
   "metadata": {},
   "outputs": [
    {
     "data": {
      "text/plain": [
       "id              0\n",
       "qid1            0\n",
       "qid2            0\n",
       "question1       0\n",
       "question2       0\n",
       "is_duplicate    0\n",
       "dtype: int64"
      ]
     },
     "execution_count": 5,
     "metadata": {},
     "output_type": "execute_result"
    }
   ],
   "source": [
    "# missing values\n",
    "new_df.isnull().sum()"
   ]
  },
  {
   "cell_type": "code",
   "execution_count": 6,
   "id": "bc07c9a9",
   "metadata": {},
   "outputs": [
    {
     "data": {
      "text/plain": [
       "0"
      ]
     },
     "execution_count": 6,
     "metadata": {},
     "output_type": "execute_result"
    }
   ],
   "source": [
    "new_df.duplicated().sum()"
   ]
  },
  {
   "cell_type": "code",
   "execution_count": 7,
   "id": "5022cf09",
   "metadata": {},
   "outputs": [
    {
     "data": {
      "text/html": [
       "<div>\n",
       "<style scoped>\n",
       "    .dataframe tbody tr th:only-of-type {\n",
       "        vertical-align: middle;\n",
       "    }\n",
       "\n",
       "    .dataframe tbody tr th {\n",
       "        vertical-align: top;\n",
       "    }\n",
       "\n",
       "    .dataframe thead th {\n",
       "        text-align: right;\n",
       "    }\n",
       "</style>\n",
       "<table border=\"1\" class=\"dataframe\">\n",
       "  <thead>\n",
       "    <tr style=\"text-align: right;\">\n",
       "      <th></th>\n",
       "      <th>question1</th>\n",
       "      <th>question2</th>\n",
       "    </tr>\n",
       "  </thead>\n",
       "  <tbody>\n",
       "    <tr>\n",
       "      <th>209948</th>\n",
       "      <td>How does one feel while dying?</td>\n",
       "      <td>How does it feel to die?</td>\n",
       "    </tr>\n",
       "    <tr>\n",
       "      <th>366038</th>\n",
       "      <td>Is it possible to prepare porridge with Quaker...</td>\n",
       "      <td>Is it ok to drink cold milk at night?</td>\n",
       "    </tr>\n",
       "    <tr>\n",
       "      <th>72367</th>\n",
       "      <td>What is the correct way of dry cleaning a leat...</td>\n",
       "      <td>How do I think like Facebook and Quora founder...</td>\n",
       "    </tr>\n",
       "    <tr>\n",
       "      <th>96991</th>\n",
       "      <td>What words wouldn't you use to describe the US?</td>\n",
       "      <td>What words wouldn't you use to describe Bangal...</td>\n",
       "    </tr>\n",
       "    <tr>\n",
       "      <th>216845</th>\n",
       "      <td>How do you transfer an iBook from an iPad to a...</td>\n",
       "      <td>What is the easiest way to transfer files from...</td>\n",
       "    </tr>\n",
       "  </tbody>\n",
       "</table>\n",
       "</div>"
      ],
      "text/plain": [
       "                                                question1  \\\n",
       "209948                     How does one feel while dying?   \n",
       "366038  Is it possible to prepare porridge with Quaker...   \n",
       "72367   What is the correct way of dry cleaning a leat...   \n",
       "96991     What words wouldn't you use to describe the US?   \n",
       "216845  How do you transfer an iBook from an iPad to a...   \n",
       "\n",
       "                                                question2  \n",
       "209948                           How does it feel to die?  \n",
       "366038              Is it ok to drink cold milk at night?  \n",
       "72367   How do I think like Facebook and Quora founder...  \n",
       "96991   What words wouldn't you use to describe Bangal...  \n",
       "216845  What is the easiest way to transfer files from...  "
      ]
     },
     "execution_count": 7,
     "metadata": {},
     "output_type": "execute_result"
    }
   ],
   "source": [
    "ques_df=new_df[['question1','question2']]\n",
    "ques_df.head()"
   ]
  },
  {
   "cell_type": "code",
   "execution_count": 8,
   "id": "726866bd",
   "metadata": {},
   "outputs": [],
   "source": [
    "from sklearn.feature_extraction.text import CountVectorizer\n",
    "# Merging texts\n",
    "questions = list(ques_df['question1'])+list(ques_df['question2'])\n",
    "\n",
    "cv=CountVectorizer(max_features=3000)\n",
    "q1_arr,q2_arr = np.vsplit(cv.fit_transform(questions).toarray(),2)"
   ]
  },
  {
   "cell_type": "code",
   "execution_count": 9,
   "id": "fcd1b0de",
   "metadata": {},
   "outputs": [
    {
     "data": {
      "text/plain": [
       "(30000, 6000)"
      ]
     },
     "execution_count": 9,
     "metadata": {},
     "output_type": "execute_result"
    }
   ],
   "source": [
    "temp_df1 = pd.DataFrame(q1_arr, index= ques_df.index)\n",
    "temp_df2 = pd.DataFrame(q2_arr, index= ques_df.index)\n",
    "temp_df = pd.concat([temp_df1, temp_df2] , axis=1)\n",
    "temp_df.shape\n",
    "#3000 bow for q1 and 2 each"
   ]
  },
  {
   "cell_type": "code",
   "execution_count": 10,
   "id": "748d40db",
   "metadata": {},
   "outputs": [],
   "source": [
    "temp_df['is_duplicate']= new_df['is_duplicate']"
   ]
  },
  {
   "cell_type": "code",
   "execution_count": 11,
   "id": "9d0fb319",
   "metadata": {},
   "outputs": [
    {
     "data": {
      "text/html": [
       "<div>\n",
       "<style scoped>\n",
       "    .dataframe tbody tr th:only-of-type {\n",
       "        vertical-align: middle;\n",
       "    }\n",
       "\n",
       "    .dataframe tbody tr th {\n",
       "        vertical-align: top;\n",
       "    }\n",
       "\n",
       "    .dataframe thead th {\n",
       "        text-align: right;\n",
       "    }\n",
       "</style>\n",
       "<table border=\"1\" class=\"dataframe\">\n",
       "  <thead>\n",
       "    <tr style=\"text-align: right;\">\n",
       "      <th></th>\n",
       "      <th>0</th>\n",
       "      <th>1</th>\n",
       "      <th>2</th>\n",
       "      <th>3</th>\n",
       "      <th>4</th>\n",
       "      <th>5</th>\n",
       "      <th>6</th>\n",
       "      <th>7</th>\n",
       "      <th>8</th>\n",
       "      <th>9</th>\n",
       "      <th>...</th>\n",
       "      <th>2991</th>\n",
       "      <th>2992</th>\n",
       "      <th>2993</th>\n",
       "      <th>2994</th>\n",
       "      <th>2995</th>\n",
       "      <th>2996</th>\n",
       "      <th>2997</th>\n",
       "      <th>2998</th>\n",
       "      <th>2999</th>\n",
       "      <th>is_duplicate</th>\n",
       "    </tr>\n",
       "  </thead>\n",
       "  <tbody>\n",
       "    <tr>\n",
       "      <th>209948</th>\n",
       "      <td>0</td>\n",
       "      <td>0</td>\n",
       "      <td>0</td>\n",
       "      <td>0</td>\n",
       "      <td>0</td>\n",
       "      <td>0</td>\n",
       "      <td>0</td>\n",
       "      <td>0</td>\n",
       "      <td>0</td>\n",
       "      <td>0</td>\n",
       "      <td>...</td>\n",
       "      <td>0</td>\n",
       "      <td>0</td>\n",
       "      <td>0</td>\n",
       "      <td>0</td>\n",
       "      <td>0</td>\n",
       "      <td>0</td>\n",
       "      <td>0</td>\n",
       "      <td>0</td>\n",
       "      <td>0</td>\n",
       "      <td>0</td>\n",
       "    </tr>\n",
       "    <tr>\n",
       "      <th>366038</th>\n",
       "      <td>0</td>\n",
       "      <td>0</td>\n",
       "      <td>0</td>\n",
       "      <td>0</td>\n",
       "      <td>0</td>\n",
       "      <td>0</td>\n",
       "      <td>0</td>\n",
       "      <td>0</td>\n",
       "      <td>0</td>\n",
       "      <td>0</td>\n",
       "      <td>...</td>\n",
       "      <td>0</td>\n",
       "      <td>0</td>\n",
       "      <td>0</td>\n",
       "      <td>0</td>\n",
       "      <td>0</td>\n",
       "      <td>0</td>\n",
       "      <td>0</td>\n",
       "      <td>0</td>\n",
       "      <td>0</td>\n",
       "      <td>0</td>\n",
       "    </tr>\n",
       "    <tr>\n",
       "      <th>72367</th>\n",
       "      <td>0</td>\n",
       "      <td>0</td>\n",
       "      <td>0</td>\n",
       "      <td>0</td>\n",
       "      <td>0</td>\n",
       "      <td>0</td>\n",
       "      <td>0</td>\n",
       "      <td>0</td>\n",
       "      <td>0</td>\n",
       "      <td>0</td>\n",
       "      <td>...</td>\n",
       "      <td>0</td>\n",
       "      <td>0</td>\n",
       "      <td>0</td>\n",
       "      <td>0</td>\n",
       "      <td>0</td>\n",
       "      <td>0</td>\n",
       "      <td>0</td>\n",
       "      <td>0</td>\n",
       "      <td>0</td>\n",
       "      <td>0</td>\n",
       "    </tr>\n",
       "    <tr>\n",
       "      <th>96991</th>\n",
       "      <td>0</td>\n",
       "      <td>0</td>\n",
       "      <td>0</td>\n",
       "      <td>0</td>\n",
       "      <td>0</td>\n",
       "      <td>0</td>\n",
       "      <td>0</td>\n",
       "      <td>0</td>\n",
       "      <td>0</td>\n",
       "      <td>0</td>\n",
       "      <td>...</td>\n",
       "      <td>1</td>\n",
       "      <td>0</td>\n",
       "      <td>0</td>\n",
       "      <td>0</td>\n",
       "      <td>0</td>\n",
       "      <td>0</td>\n",
       "      <td>0</td>\n",
       "      <td>0</td>\n",
       "      <td>0</td>\n",
       "      <td>0</td>\n",
       "    </tr>\n",
       "    <tr>\n",
       "      <th>216845</th>\n",
       "      <td>0</td>\n",
       "      <td>0</td>\n",
       "      <td>0</td>\n",
       "      <td>0</td>\n",
       "      <td>0</td>\n",
       "      <td>0</td>\n",
       "      <td>0</td>\n",
       "      <td>0</td>\n",
       "      <td>0</td>\n",
       "      <td>0</td>\n",
       "      <td>...</td>\n",
       "      <td>0</td>\n",
       "      <td>0</td>\n",
       "      <td>0</td>\n",
       "      <td>0</td>\n",
       "      <td>0</td>\n",
       "      <td>0</td>\n",
       "      <td>0</td>\n",
       "      <td>0</td>\n",
       "      <td>0</td>\n",
       "      <td>0</td>\n",
       "    </tr>\n",
       "  </tbody>\n",
       "</table>\n",
       "<p>5 rows × 6001 columns</p>\n",
       "</div>"
      ],
      "text/plain": [
       "        0  1  2  3  4  5  6  7  8  9  ...  2991  2992  2993  2994  2995  2996  \\\n",
       "209948  0  0  0  0  0  0  0  0  0  0  ...     0     0     0     0     0     0   \n",
       "366038  0  0  0  0  0  0  0  0  0  0  ...     0     0     0     0     0     0   \n",
       "72367   0  0  0  0  0  0  0  0  0  0  ...     0     0     0     0     0     0   \n",
       "96991   0  0  0  0  0  0  0  0  0  0  ...     1     0     0     0     0     0   \n",
       "216845  0  0  0  0  0  0  0  0  0  0  ...     0     0     0     0     0     0   \n",
       "\n",
       "        2997  2998  2999  is_duplicate  \n",
       "209948     0     0     0             0  \n",
       "366038     0     0     0             0  \n",
       "72367      0     0     0             0  \n",
       "96991      0     0     0             0  \n",
       "216845     0     0     0             0  \n",
       "\n",
       "[5 rows x 6001 columns]"
      ]
     },
     "execution_count": 11,
     "metadata": {},
     "output_type": "execute_result"
    }
   ],
   "source": [
    "temp_df.head()"
   ]
  },
  {
   "cell_type": "code",
   "execution_count": 12,
   "id": "3e33ea36",
   "metadata": {},
   "outputs": [],
   "source": [
    "from sklearn.model_selection import train_test_split\n",
    "X_train,X_test,y_train,y_test = train_test_split(temp_df.iloc[:,0:-1].values,temp_df.iloc[:,-1].values,test_size=0.2,random_state=1)"
   ]
  },
  {
   "cell_type": "code",
   "execution_count": 17,
   "id": "c556161a",
   "metadata": {},
   "outputs": [
    {
     "data": {
      "text/plain": [
       "0.7371666666666666"
      ]
     },
     "execution_count": 17,
     "metadata": {},
     "output_type": "execute_result"
    }
   ],
   "source": [
    "from sklearn.ensemble import RandomForestClassifier\n",
    "from sklearn.metrics import accuracy_score\n",
    "\n",
    "rf = RandomForestClassifier()\n",
    "rf.fit(X_train, y_train)\n",
    "y_pred = rf.predict(X_test)\n",
    "accuracy_score(y_test,y_pred)"
   ]
  },
  {
   "cell_type": "code",
   "execution_count": 19,
   "id": "a6f034c6",
   "metadata": {},
   "outputs": [
    {
     "name": "stdout",
     "output_type": "stream",
     "text": [
      "Collecting xgboost\n",
      "  Downloading xgboost-1.7.6-py3-none-win_amd64.whl (70.9 MB)\n",
      "     -------------------------------------- 70.9/70.9 MB 604.8 kB/s eta 0:00:00\n",
      "Requirement already satisfied: numpy in c:\\users\\thisi\\anaconda3\\lib\\site-packages (from xgboost) (1.24.3)\n",
      "Requirement already satisfied: scipy in c:\\users\\thisi\\anaconda3\\lib\\site-packages (from xgboost) (1.9.1)\n",
      "Installing collected packages: xgboost\n",
      "Successfully installed xgboost-1.7.6\n",
      "Note: you may need to restart the kernel to use updated packages.\n"
     ]
    }
   ],
   "source": [
    "pip install xgboost"
   ]
  },
  {
   "cell_type": "code",
   "execution_count": null,
   "id": "fafadd39",
   "metadata": {},
   "outputs": [],
   "source": []
  }
 ],
 "metadata": {
  "kernelspec": {
   "display_name": "Python 3 (ipykernel)",
   "language": "python",
   "name": "python3"
  },
  "language_info": {
   "codemirror_mode": {
    "name": "ipython",
    "version": 3
   },
   "file_extension": ".py",
   "mimetype": "text/x-python",
   "name": "python",
   "nbconvert_exporter": "python",
   "pygments_lexer": "ipython3",
   "version": "3.9.13"
  }
 },
 "nbformat": 4,
 "nbformat_minor": 5
}
